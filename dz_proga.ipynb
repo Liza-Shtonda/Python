{
 "cells": [
  {
   "cell_type": "markdown",
   "id": "stainless-australia",
   "metadata": {},
   "source": [
    "^^^ Вправа 17. побудувати матрицю випадкових дійсних чисел, дня неї знайти найбільше значення, медіану, середнє арифметичне"
   ]
  },
  {
   "cell_type": "code",
   "execution_count": 2,
   "id": "correct-threat",
   "metadata": {},
   "outputs": [
    {
     "data": {
      "text/plain": [
       "array([[0., 0., 0., 0., 0.],\n",
       "       [0., 0., 0., 0., 0.],\n",
       "       [0., 0., 0., 0., 0.],\n",
       "       [0., 0., 0., 0., 0.],\n",
       "       [0., 0., 0., 0., 0.]])"
      ]
     },
     "execution_count": 2,
     "metadata": {},
     "output_type": "execute_result"
    }
   ],
   "source": [
    "import random\n",
    "import numpy as np\n",
    "\n",
    "n=5\n",
    "D=np.zeros((n,n), dtype=np.float)\n",
    "\n",
    "D"
   ]
  },
  {
   "cell_type": "code",
   "execution_count": 3,
   "id": "adverse-usage",
   "metadata": {},
   "outputs": [
    {
     "data": {
      "text/plain": [
       "array([[0.09022329, 0.4195727 , 0.42455385, 0.51628297, 0.62943427],\n",
       "       [0.79661088, 0.27694191, 0.08526887, 0.30192071, 0.52668719],\n",
       "       [0.458318  , 0.5881687 , 0.41387583, 0.31541425, 0.02984489],\n",
       "       [0.15698156, 0.80052947, 0.66118065, 0.65701008, 0.59785256],\n",
       "       [0.05347243, 0.90365723, 0.10366549, 0.24627167, 0.04747062]])"
      ]
     },
     "execution_count": 3,
     "metadata": {},
     "output_type": "execute_result"
    }
   ],
   "source": [
    "for i in range(n):\n",
    "    for j in range(n):\n",
    "        D[i][j]=np.random.random()\n",
    "D"
   ]
  },
  {
   "cell_type": "code",
   "execution_count": 4,
   "id": "continued-intention",
   "metadata": {},
   "outputs": [
    {
     "data": {
      "text/plain": [
       "0.903657231802525"
      ]
     },
     "execution_count": 4,
     "metadata": {},
     "output_type": "execute_result"
    }
   ],
   "source": [
    "np.max(D)"
   ]
  },
  {
   "cell_type": "code",
   "execution_count": 5,
   "id": "developing-uruguay",
   "metadata": {},
   "outputs": [
    {
     "data": {
      "text/plain": [
       "0.41957269807482755"
      ]
     },
     "execution_count": 5,
     "metadata": {},
     "output_type": "execute_result"
    }
   ],
   "source": [
    "b=np.median(D)\n",
    "b"
   ]
  },
  {
   "cell_type": "code",
   "execution_count": 6,
   "id": "alternative-house",
   "metadata": {},
   "outputs": [
    {
     "data": {
      "text/plain": [
       "0.4040484039953143"
      ]
     },
     "execution_count": 6,
     "metadata": {},
     "output_type": "execute_result"
    }
   ],
   "source": [
    "np.average(D)"
   ]
  },
  {
   "cell_type": "code",
   "execution_count": null,
   "id": "crucial-command",
   "metadata": {},
   "outputs": [],
   "source": []
  },
  {
   "cell_type": "markdown",
   "id": "adolescent-farmer",
   "metadata": {},
   "source": [
    "Вправа 19 а. побудувати графік у=(x**3+2*x**2-3*x-2)/(x**2+x-2) в межах [2,5]"
   ]
  },
  {
   "cell_type": "code",
   "execution_count": 7,
   "id": "established-affairs",
   "metadata": {},
   "outputs": [],
   "source": [
    "import matplotlib.pyplot as plt\n",
    "%matplotlib inline"
   ]
  },
  {
   "cell_type": "code",
   "execution_count": 8,
   "id": "static-tension",
   "metadata": {},
   "outputs": [],
   "source": [
    "def f(x):\n",
    "    return (x**3+2*x**2-3*x-2)/(x**2+x-2)"
   ]
  },
  {
   "cell_type": "code",
   "execution_count": 9,
   "id": "settled-ordinary",
   "metadata": {},
   "outputs": [
    {
     "data": {
      "text/plain": [
       "array([2.  , 2.15, 2.3 , 2.45, 2.6 , 2.75, 2.9 , 3.05, 3.2 , 3.35, 3.5 ,\n",
       "       3.65, 3.8 , 3.95, 4.1 , 4.25, 4.4 , 4.55, 4.7 , 4.85, 5.  ])"
      ]
     },
     "execution_count": 9,
     "metadata": {},
     "output_type": "execute_result"
    }
   ],
   "source": [
    "a=2\n",
    "b=5\n",
    "n=21\n",
    "x=np.linspace(a, b, n)\n",
    "x"
   ]
  },
  {
   "cell_type": "code",
   "execution_count": 10,
   "id": "iraqi-explosion",
   "metadata": {},
   "outputs": [
    {
     "data": {
      "text/plain": [
       "array([2.        , 2.24900471, 2.47710197, 2.69060442, 2.89347826,\n",
       "       3.08834586, 3.27701396, 3.46077035, 3.64055944, 3.81709087,\n",
       "       3.99090909, 4.16243947, 4.3320197 , 4.49992166, 4.666367  ,\n",
       "       4.83153846, 4.99558824, 5.15864423, 5.32081484, 5.48219262,\n",
       "       5.64285714])"
      ]
     },
     "execution_count": 10,
     "metadata": {},
     "output_type": "execute_result"
    }
   ],
   "source": [
    "y=f(x)\n",
    "y"
   ]
  },
  {
   "cell_type": "code",
   "execution_count": 11,
   "id": "exciting-clock",
   "metadata": {},
   "outputs": [
    {
     "data": {
      "image/png": "[encoded data removed]",
      "text/plain": [
       "<Figure size 432x288 with 1 Axes>"
      ]
     },
     "metadata": {
      "needs_background": "light"
     },
     "output_type": "display_data"
    }
   ],
   "source": [
    "plt.plot(x, y, color='red', marker='x', linestyle='none')\n",
    "plt.show()"
   ]
  },
  {
   "cell_type": "code",
   "execution_count": null,
   "id": "hundred-collection",
   "metadata": {},
   "outputs": [],
   "source": []
  },
  {
   "cell_type": "markdown",
   "id": "pretty-energy",
   "metadata": {},
   "source": [
    "Вправа 4.  побудувати квадратну матрицю, у якої a[i][j]=C(i,j)+C(j,i)"
   ]
  },
  {
   "cell_type": "code",
   "execution_count": 12,
   "id": "original-poison",
   "metadata": {},
   "outputs": [
    {
     "name": "stdout",
     "output_type": "stream",
     "text": [
      "[[ 1  1  1  1  1]\n",
      " [ 1 -1 -2 -3 -4]\n",
      " [ 1 -2  1  3  6]\n",
      " [ 1 -3  3 -1 -4]\n",
      " [ 1 -4  6 -4  1]]\n"
     ]
    }
   ],
   "source": [
    "import numpy as np\n",
    "n=5\n",
    "D=np.zeros((n,n), dtype=np.int32)\n",
    "D[0]=1\n",
    "D.T[0]=1\n",
    "\n",
    "for i in range(1, n):\n",
    "    for j in range(1,i+1):\n",
    "        D[i, j] = -D[i, j-1] * (i - j + 1) // j\n",
    "\n",
    "for i in range(1, n-1):\n",
    "    for j in range(i+1,n):\n",
    "        D[i, j] = -D[i-1, j] * (j - i + 1) // i\n",
    "\n",
    "print(D)"
   ]
  },
  {
   "cell_type": "code",
   "execution_count": null,
   "id": "statistical-interim",
   "metadata": {},
   "outputs": [],
   "source": []
  }
 ],
 "metadata": {
  "kernelspec": {
   "display_name": "Python 3",
   "language": "python",
   "name": "python3"
  },
  "language_info": {
   "codemirror_mode": {
    "name": "ipython",
    "version": 3
   },
   "file_extension": ".py",
   "mimetype": "text/x-python",
   "name": "python",
   "nbconvert_exporter": "python",
   "pygments_lexer": "ipython3",
   "version": "3.9.1"
  }
 },
 "nbformat": 4,
 "nbformat_minor": 5
}
