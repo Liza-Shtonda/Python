{
 "cells": [
  {
   "cell_type": "markdown",
   "id": "demonstrated-citation",
   "metadata": {},
   "source": [
    "Задача 11. За квадратною матрицею \n",
    "одержати послідовність чисел обходом матриці \"спіраллю\" за годинниковою стрілкою, розпочавши обхід у лівому верхньому куті."
   ]
  },
  {
   "cell_type": "code",
   "execution_count": 4,
   "id": "identical-speaking",
   "metadata": {},
   "outputs": [
    {
     "name": "stdout",
     "output_type": "stream",
     "text": [
      "[[ 0  1  2  3  4  5]\n",
      " [ 6  7  8  9 10 11]\n",
      " [12 13 14 15 16 17]\n",
      " [18 19 20 21 22 23]\n",
      " [24 25 26 27 28 29]\n",
      " [30 31 32 33 34 35]]\n",
      "\n",
      "\n",
      "[ 0  1  2  3  4  5 11 17 23 29 35 34 33 32 31 30 24 18 12  6  7  8  9 10\n",
      " 16 22 28 27 26 25 19 13 14 15 21 20]\n"
     ]
    }
   ],
   "source": [
    "import numpy as np\n",
    "\n",
    "a=np.arange(36).reshape(6,-1)\n",
    "n=a.shape[0]\n",
    "\n",
    "\n",
    "def _AB(t,a, li):\n",
    "    i=t\n",
    "    for j in range(t, n-t-1):\n",
    "        li.append(a[i,j])    \n",
    "    return li\n",
    "\n",
    "\n",
    "def _BC(t,a, li):   \n",
    "    j=n-t-1\n",
    "    for i in range(t, n-t-1):\n",
    "        li.append(a[i,j])    \n",
    "    return li\n",
    "\n",
    "\n",
    "def _CD(t,a, li):\n",
    "    i=n-t-1\n",
    "    for j in range(n-t-1, t, -1):\n",
    "        li.append(a[i,j])       \n",
    "    return li\n",
    "\n",
    "\n",
    "def _DA(t,a, li):   \n",
    "    j=t\n",
    "    for i in range(n-t-1, t, -1):\n",
    "        li.append(a[i,j])      \n",
    "    return li\n",
    "\n",
    "\n",
    "def _a_spiral(t,a, li):\n",
    "    _AB(t,a, li)\n",
    "    _BC(t,a, li)\n",
    "    _CD(t,a, li)\n",
    "    _DA(t,a, li)\n",
    "    return li\n",
    "\n",
    "\n",
    "def spiral(a):\n",
    "    m=n//2\n",
    "    li=[]\n",
    "    for t in range(m):\n",
    "        _a_spiral(t, a, li)\n",
    "    if n%2:\n",
    "        li.append(a[m, m])\n",
    "    return li\n",
    "        \n",
    "print(a, np.array(spiral(a)), sep='\\n\\n\\n')"
   ]
  },
  {
   "cell_type": "markdown",
   "id": "typical-concert",
   "metadata": {},
   "source": []
  },
  {
   "cell_type": "code",
   "execution_count": null,
   "id": "unable-destination",
   "metadata": {},
   "outputs": [],
   "source": []
  },
  {
   "cell_type": "code",
   "execution_count": null,
   "id": "greek-appreciation",
   "metadata": {},
   "outputs": [],
   "source": [
    "Задача 12. За квадратною матрицею одержати послідовність чисел обходом \"змійкою\"\n",
    "трикутника над головною діагоналлю матриці, розпочавши обхід у правому верхньому куті та рухаючись діагоналями, починаючи вниз."
   ]
  },
  {
   "cell_type": "code",
   "execution_count": 6,
   "id": "broad-income",
   "metadata": {},
   "outputs": [
    {
     "name": "stdout",
     "output_type": "stream",
     "text": [
      "[[ 0  1  2  3  4  5  6]\n",
      " [ 7  8  9 10 11 12 13]\n",
      " [14 15 16 17 18 19 20]\n",
      " [21 22 23 24 25 26 27]\n",
      " [28 29 30 31 32 33 34]\n",
      " [35 36 37 38 39 40 41]\n",
      " [42 43 44 45 46 47 48]]\n",
      "\n",
      "\n",
      "[ 6 13  5  4 12 20 27 19 11  3  2 10 18 26 34 41 33 25 17  9  1  0  8 16\n",
      " 24 32 40 48]\n"
     ]
    }
   ],
   "source": [
    "import numpy as np\n",
    "b=int(7)\n",
    "a=np.arange(b**2).reshape(b,-1)\n",
    "n=a.shape[0]\n",
    "\n",
    "def _down(t,a,li):\n",
    "    n=a.shape[0]\n",
    "    i=0\n",
    "    j=t\n",
    "    while j<n:\n",
    "        li.append(a[i,j])              \n",
    "        i+=1\n",
    "        j+=1\n",
    "    return li\n",
    "\n",
    "\n",
    "def _up(t,a,li):\n",
    "    n=a.shape[0]\n",
    "    i=n-t-1\n",
    "    j=n-1\n",
    "    while i>=0:\n",
    "        li.append(a[i,j])       \n",
    "        i-=1\n",
    "        j-=1     \n",
    "    return li\n",
    "\n",
    "\n",
    "def snake(a):\n",
    "    li=[]\n",
    "    n=a.shape[0]\n",
    "    t=n-1\n",
    "    for _ in range(n//2):\n",
    "        _down(t,a,li)\n",
    "        t-=1\n",
    "        _up(t,a,li)\n",
    "        t-=1\n",
    "    if t>=0:\n",
    "        _down(t,a,li)\n",
    "    return li\n",
    "\n",
    "\n",
    "print(a, np.array(snake(a)), sep='\\n\\n\\n')"
   ]
  },
  {
   "cell_type": "code",
   "execution_count": null,
   "id": "sacred-memphis",
   "metadata": {},
   "outputs": [],
   "source": []
  },
  {
   "cell_type": "code",
   "execution_count": null,
   "id": "fifteen-courage",
   "metadata": {},
   "outputs": [],
   "source": []
  },
  {
   "cell_type": "markdown",
   "id": "ceramic-decision",
   "metadata": {},
   "source": [
    "Задача 13. Написати функцію, яка обходить верхній чвертькутник матриці змійкою по горизонталі, починаючи з лівого верхнього кута"
   ]
  },
  {
   "cell_type": "code",
   "execution_count": 7,
   "id": "rural-charter",
   "metadata": {},
   "outputs": [
    {
     "data": {
      "text/plain": [
       "array([[ 0,  1,  2,  3,  4,  5,  6,  7,  8,  9, 10, 11, 12],\n",
       "       [ 0, 23, 22, 21, 20, 19, 18, 17, 16, 15, 14, 13,  0],\n",
       "       [ 0,  0, 24, 25, 26, 27, 28, 29, 30, 31, 32,  0,  0],\n",
       "       [ 0,  0,  0, 39, 38, 37, 36, 35, 34, 33,  0,  0,  0],\n",
       "       [ 0,  0,  0,  0, 40, 41, 42, 43, 44,  0,  0,  0,  0],\n",
       "       [ 0,  0,  0,  0,  0, 47, 46, 45,  0,  0,  0,  0,  0],\n",
       "       [ 0,  0,  0,  0,  0,  0, 48,  0,  0,  0,  0,  0,  0],\n",
       "       [ 0,  0,  0,  0,  0,  0,  0,  0,  0,  0,  0,  0,  0],\n",
       "       [ 0,  0,  0,  0,  0,  0,  0,  0,  0,  0,  0,  0,  0],\n",
       "       [ 0,  0,  0,  0,  0,  0,  0,  0,  0,  0,  0,  0,  0],\n",
       "       [ 0,  0,  0,  0,  0,  0,  0,  0,  0,  0,  0,  0,  0],\n",
       "       [ 0,  0,  0,  0,  0,  0,  0,  0,  0,  0,  0,  0,  0],\n",
       "       [ 0,  0,  0,  0,  0,  0,  0,  0,  0,  0,  0,  0,  0]])"
      ]
     },
     "execution_count": 7,
     "metadata": {},
     "output_type": "execute_result"
    }
   ],
   "source": [
    "def _right(a,t,num):\n",
    "    i=n-1-t\n",
    "    for j in range(i,n-i):\n",
    "        a[i,j]=num\n",
    "        num+=1\n",
    "    return num,t\n",
    "\n",
    "\n",
    "def _left(a,t,num):\n",
    "    i=n-1-t\n",
    "    for j in range(n-i-1,i-1,-1):\n",
    "        a[i,j]=num\n",
    "        num+=1\n",
    "    return num,t\n",
    "\n",
    "\n",
    "def _horizontal(a,t,num):\n",
    "    num,t=_right(a,t,num)\n",
    "    t-=1\n",
    "    num,t=_left(a,t,num)\n",
    "    t-=1\n",
    "    return num,t\n",
    "\n",
    "\n",
    "def spiral(a):\n",
    "    n=a.shape[0]\n",
    "    m=(n+1)//4\n",
    "    t=n-1\n",
    "    num=0\n",
    "    for _ in range(m):\n",
    "        num,t=_horizontal(a,t,num)\n",
    "    if n%2 and n>1:\n",
    "        a[t,t]=num\n",
    "        num+=1\n",
    "    return num\n",
    "\n",
    "import numpy as np\n",
    "n=13\n",
    "a=np.zeros((n,n),dtype=np.int)\n",
    "spiral(a)\n",
    "a"
   ]
  },
  {
   "cell_type": "code",
   "execution_count": null,
   "id": "wrapped-immune",
   "metadata": {},
   "outputs": [],
   "source": []
  }
 ],
 "metadata": {
  "kernelspec": {
   "display_name": "Python 3",
   "language": "python",
   "name": "python3"
  },
  "language_info": {
   "codemirror_mode": {
    "name": "ipython",
    "version": 3
   },
   "file_extension": ".py",
   "mimetype": "text/x-python",
   "name": "python",
   "nbconvert_exporter": "python",
   "pygments_lexer": "ipython3",
   "version": "3.9.1"
  }
 },
 "nbformat": 4,
 "nbformat_minor": 5
}
